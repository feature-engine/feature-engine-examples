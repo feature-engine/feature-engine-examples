{
 "cells": [
  {
   "cell_type": "code",
   "execution_count": null,
   "id": "571e09fa-0904-4e53-98b4-e1a6d8254e1c",
   "metadata": {},
   "outputs": [],
   "source": [
    "import string\n",
    "import numpy as np\n",
    "import pandas as pd\n",
    "import matplotlib.pyplot as plt\n",
    "from sklearn.model_selection import train_test_split\n",
    "from feature_engine.encoding import StringSimilarityEncoder"
   ]
  },
  {
   "cell_type": "code",
   "execution_count": null,
   "id": "9cc83d4a-506c-4eca-b842-1570268d8b18",
   "metadata": {},
   "outputs": [],
   "source": [
    "# Helper function for loading and preprocessing data\n",
    "def load_titanic() -> pd.DataFrame:\n",
    "    translate_table = str.maketrans('' , '', string.punctuation)\n",
    "    data = pd.read_csv('https://www.openml.org/data/get_csv/16826755/phpMYEkMl')\n",
    "    data = data.replace('?', np.nan)\n",
    "    data['home.dest'] = (\n",
    "        data['home.dest']\n",
    "        .str.strip()\n",
    "        .str.translate(translate_table)\n",
    "        .str.replace('  ', ' ')\n",
    "        .str.lower()\n",
    "    )\n",
    "    data['name'] = (\n",
    "        data['name']\n",
    "        .str.strip()\n",
    "        .str.translate(translate_table)\n",
    "        .str.replace('  ', ' ')\n",
    "        .str.lower()\n",
    "    )\n",
    "    data['ticket'] = (\n",
    "        data['ticket']\n",
    "        .str.strip()\n",
    "        .str.translate(translate_table)\n",
    "        .str.replace('  ', ' ')\n",
    "        .str.lower()\n",
    "    )\n",
    "    return data"
   ]
  },
  {
   "cell_type": "code",
   "execution_count": null,
   "id": "7f409c47-f08c-4693-9dd5-6a83a03e21f8",
   "metadata": {},
   "outputs": [],
   "source": [
    "# Load dataset\n",
    "data = load_titanic()"
   ]
  },
  {
   "cell_type": "code",
   "execution_count": null,
   "id": "8f9a5718-06e3-46af-b79b-99336aee8c0a",
   "metadata": {},
   "outputs": [],
   "source": [
    "# Separate into train and test sets\n",
    "X_train, X_test, y_train, y_test = train_test_split(\n",
    "    data.drop(['survived', 'sex', 'cabin', 'embarked'], axis=1),\n",
    "    data['survived'],\n",
    "    test_size=0.3,\n",
    "    random_state=0\n",
    ")"
   ]
  },
  {
   "cell_type": "code",
   "execution_count": null,
   "id": "f17bdc35-f8fc-47ae-9aa7-1eb2db620271",
   "metadata": {},
   "outputs": [],
   "source": [
    "# set up the encoder\n",
    "encoder = StringSimilarityEncoder(top_categories=2, variables=['name', 'home.dest', 'ticket'])"
   ]
  },
  {
   "cell_type": "code",
   "execution_count": null,
   "id": "ee36b4b0-92eb-44a9-b39a-85b6f0e66efb",
   "metadata": {},
   "outputs": [],
   "source": [
    "# fit the encoder\n",
    "encoder.fit(X_train)"
   ]
  },
  {
   "cell_type": "code",
   "execution_count": null,
   "id": "2a0afbef-0f12-4db9-9e39-afb44b2f2639",
   "metadata": {},
   "outputs": [],
   "source": [
    "encoder.encoder_dict_"
   ]
  },
  {
   "cell_type": "code",
   "execution_count": null,
   "id": "9117052c-a243-4d2d-92f6-4883b4062920",
   "metadata": {},
   "outputs": [],
   "source": [
    "# transform the data\n",
    "train_t = encoder.transform(X_train)\n",
    "test_t = encoder.transform(X_test)"
   ]
  },
  {
   "cell_type": "code",
   "execution_count": null,
   "id": "9a375a74-5eb2-4c8f-882e-126b7c343231",
   "metadata": {},
   "outputs": [],
   "source": [
    "train_t"
   ]
  },
  {
   "cell_type": "code",
   "execution_count": null,
   "id": "365c4591-5f7e-45cc-9a5a-1ac19ad7c267",
   "metadata": {},
   "outputs": [],
   "source": [
    "test_t"
   ]
  },
  {
   "cell_type": "code",
   "execution_count": null,
   "id": "a89e8fbb-c018-4e2e-83b8-958a28986f08",
   "metadata": {},
   "outputs": [],
   "source": [
    "# plot encoded column - ticket\n",
    "fig, ax = plt.subplots(2, 1);\n",
    "train_t.plot(kind='scatter', x='ticket_ca 2343', y='ticket_ca 2144', sharex=True, title='Ticket encoding in train', ax=ax[0]);\n",
    "test_t.plot(kind='scatter', x='ticket_ca 2343', y='ticket_ca 2144', sharex=True, title='Ticket encoding in test', ax=ax[1]);"
   ]
  },
  {
   "cell_type": "code",
   "execution_count": null,
   "id": "89147ff1-dbb6-4540-847f-52c7ead7e24f",
   "metadata": {},
   "outputs": [],
   "source": [
    "# defining encoder that ignores NaNs\n",
    "encoder = StringSimilarityEncoder(\n",
    "    top_categories=2,\n",
    "    handle_missinig='ignore',\n",
    "    variables=['name', 'home.dest', 'ticket']\n",
    ")"
   ]
  },
  {
   "cell_type": "code",
   "execution_count": null,
   "id": "331a2fe1-a011-4edc-99eb-c3f20f30b540",
   "metadata": {},
   "outputs": [],
   "source": [
    "# refiting the encoder\n",
    "encoder.fit(X_train)"
   ]
  },
  {
   "cell_type": "code",
   "execution_count": null,
   "id": "32c391c6-2592-43bf-b1aa-df38a365a726",
   "metadata": {},
   "outputs": [],
   "source": [
    "encoder.encoder_dict_"
   ]
  },
  {
   "cell_type": "code",
   "execution_count": null,
   "id": "f539dd05-6dc8-485d-a7fa-3b31ae416482",
   "metadata": {},
   "outputs": [],
   "source": [
    "# transform the data\n",
    "train_t = encoder.transform(X_train)\n",
    "test_t = encoder.transform(X_test)"
   ]
  },
  {
   "cell_type": "code",
   "execution_count": null,
   "id": "0abbba87-feb5-4782-b9d8-487db7d07331",
   "metadata": {},
   "outputs": [],
   "source": [
    "train_t"
   ]
  },
  {
   "cell_type": "code",
   "execution_count": null,
   "id": "4a1950da-6c10-48ff-b5f2-b40f42c1d0b3",
   "metadata": {},
   "outputs": [],
   "source": [
    "test_t"
   ]
  },
  {
   "cell_type": "code",
   "execution_count": null,
   "id": "cd176a8f-63a2-45fd-9f06-51505abb660e",
   "metadata": {},
   "outputs": [],
   "source": [
    "# plot encoded column - home.dest\n",
    "fig, ax = plt.subplots(2, 1);\n",
    "train_t.plot(\n",
    "    kind='scatter',\n",
    "    x='home.dest_new york ny',\n",
    "    y='home.dest_london',\n",
    "    sharex=True,\n",
    "    title='Home destination encoding in train',\n",
    "    ax=ax[0]\n",
    ");\n",
    "test_t.plot(\n",
    "    kind='scatter',\n",
    "    x='home.dest_new york ny',\n",
    "    y='home.dest_london',\n",
    "    sharex=True,\n",
    "    title='Home destination encoding in test',\n",
    "    ax=ax[1]\n",
    ");"
   ]
  },
  {
   "cell_type": "code",
   "execution_count": null,
   "id": "2d2077be-4c12-4fc7-ab09-11b37040d89e",
   "metadata": {},
   "outputs": [],
   "source": []
  }
 ],
 "metadata": {
  "kernelspec": {
   "display_name": "Python 3 (ipykernel)",
   "language": "python",
   "name": "python3"
  },
  "language_info": {
   "codemirror_mode": {
    "name": "ipython",
    "version": 3
   },
   "file_extension": ".py",
   "mimetype": "text/x-python",
   "name": "python",
   "nbconvert_exporter": "python",
   "pygments_lexer": "ipython3",
   "version": "3.10.6"
  }
 },
 "nbformat": 4,
 "nbformat_minor": 5
}
